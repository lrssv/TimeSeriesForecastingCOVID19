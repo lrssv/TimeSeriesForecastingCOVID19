{
  "nbformat": 4,
  "nbformat_minor": 0,
  "metadata": {
    "colab": {
      "name": "INMET_TimeSeries.ipynb",
      "provenance": [],
      "collapsed_sections": [],
      "mount_file_id": "1k6AWFuDyFTnSr1JXlN96KxmUwwbiknfy",
      "authorship_tag": "ABX9TyPH/obZbszrkH4kujKOWP/t",
      "include_colab_link": true
    },
    "kernelspec": {
      "name": "python3",
      "display_name": "Python 3"
    }
  },
  "cells": [
    {
      "cell_type": "markdown",
      "metadata": {
        "id": "view-in-github",
        "colab_type": "text"
      },
      "source": [
        "<a href=\"https://colab.research.google.com/github/lrssv/TimeSeriesForecastingCOVID19/blob/master/INMET_TimeSeries.ipynb\" target=\"_parent\"><img src=\"https://colab.research.google.com/assets/colab-badge.svg\" alt=\"Open In Colab\"/></a>"
      ]
    },
    {
      "cell_type": "markdown",
      "metadata": {
        "id": "yjFbdjRSIp1u",
        "colab_type": "text"
      },
      "source": [
        "# Multi-step ARIMA for data INMET Forecast using AUTOARIMA"
      ]
    },
    {
      "cell_type": "code",
      "metadata": {
        "id": "Jtj9sTrSGQhG",
        "colab_type": "code",
        "colab": {}
      },
      "source": [
        "#imports\n",
        "import pandas as pd\n",
        "import numpy as np\n",
        "from tqdm import tqdm"
      ],
      "execution_count": 1,
      "outputs": []
    },
    {
      "cell_type": "code",
      "metadata": {
        "id": "QZYgfRPtHq63",
        "colab_type": "code",
        "colab": {}
      },
      "source": [
        "#get data\n",
        "url1 = 'https://raw.githubusercontent.com/lrssv/TimeSeriesForecastingWindSun/master/series_ventovel'\n",
        "url2 = 'https://raw.githubusercontent.com/lrssv/TimeSeriesForecastingWindSun/master/series_radiacao'\n",
        "\n",
        "df_ventovel = pd.read_csv(url1, header=0, parse_dates=[0], index_col=0, squeeze=True)\n",
        "df_radiacao = pd.read_csv(url2, header=0, parse_dates=[0], index_col=0, squeeze=True)\n",
        "\n",
        "\n",
        "series_ventovel = pd.Series(df_ventovel)\n",
        "series_radiacao = pd.Series(df_radiacao)"
      ],
      "execution_count": 2,
      "outputs": []
    },
    {
      "cell_type": "markdown",
      "metadata": {
        "id": "33sthie3IkpM",
        "colab_type": "text"
      },
      "source": [
        "## AUTOARIMA implementation "
      ]
    },
    {
      "cell_type": "code",
      "metadata": {
        "id": "o4nC1s4cI1n9",
        "colab_type": "code",
        "colab": {}
      },
      "source": [
        "pip install pmdarima"
      ],
      "execution_count": null,
      "outputs": []
    },
    {
      "cell_type": "code",
      "metadata": {
        "id": "18L2cVjVI_VE",
        "colab_type": "code",
        "colab": {}
      },
      "source": [
        "import pmdarima as pm\n",
        "from pmdarima.arima import ndiffs\n",
        "import matplotlib.pyplot as plt"
      ],
      "execution_count": 15,
      "outputs": []
    },
    {
      "cell_type": "code",
      "metadata": {
        "id": "gmine0BriqLV",
        "colab_type": "code",
        "colab": {}
      },
      "source": [
        "#groups of train + test\n",
        "\n",
        "window_size_train = 100\n",
        "window_size_test = 50\n",
        "data = series_ventovel.values\n",
        "train = []\n",
        "test = []\n",
        "results = []\n",
        "\n",
        "for i in tqdm(range(window_size_train, len(data)-window_size_test)):\n",
        "  train = np.array(data[i-window_size_train:i])\n",
        "  #test.append(np.array(data[i:i+window_size_test]))\n",
        "\n",
        "  kpss_diffs = ndiffs(train, alpha=0.05, test='kpss', max_d=6)\n",
        "  adf_diffs = ndiffs(train, alpha=0.05, test='adf', max_d=6)\n",
        "  n_diffs = max(adf_diffs, kpss_diffs)\n",
        "\n",
        "  auto = pm.auto_arima(train, d=n_diffs, m=12, seasonal=True, stepwise=True, start_P=0, start_Q=0, D=0, max_P=0, max_Q=0, max_D=0,\n",
        "                     suppress_warnings=True, error_action=\"ignore\", max_p=6, \n",
        "                     max_d=5, max_order=None, trace=True)\n",
        "  \n",
        "  results.append(np.array(auto.order))\n"
      ],
      "execution_count": null,
      "outputs": []
    }
  ]
}