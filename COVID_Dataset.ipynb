{
  "nbformat": 4,
  "nbformat_minor": 0,
  "metadata": {
    "colab": {
      "name": "COVID_Dataset.ipynb",
      "provenance": [],
      "mount_file_id": "1VUJeQ3x3WNT_7dJ6TMeKPGCq2dKkNjmT",
      "authorship_tag": "ABX9TyO9Q2Xc0yu2jOnEdV/Quejo",
      "include_colab_link": true
    },
    "kernelspec": {
      "name": "python3",
      "display_name": "Python 3"
    }
  },
  "cells": [
    {
      "cell_type": "markdown",
      "metadata": {
        "id": "view-in-github",
        "colab_type": "text"
      },
      "source": [
        "<a href=\"https://colab.research.google.com/github/lrssv/TimeSeriesForecastingCOVID19/blob/master/COVID_Dataset.ipynb\" target=\"_parent\"><img src=\"https://colab.research.google.com/assets/colab-badge.svg\" alt=\"Open In Colab\"/></a>"
      ]
    },
    {
      "cell_type": "code",
      "metadata": {
        "id": "K9wTF5XDNiJF",
        "colab_type": "code",
        "colab": {}
      },
      "source": [
        "import pandas as pd\n",
        "import numpy as np\n",
        "from tqdm import tqdm\n",
        "import matplotlib.pyplot as plt"
      ],
      "execution_count": 0,
      "outputs": []
    },
    {
      "cell_type": "markdown",
      "metadata": {
        "id": "WNl9k4EdI07y",
        "colab_type": "text"
      },
      "source": [
        "## Brazilian Data"
      ]
    },
    {
      "cell_type": "code",
      "metadata": {
        "id": "_V-7T1BKISJ3",
        "colab_type": "code",
        "colab": {}
      },
      "source": [
        "npages = 54\n",
        "\n",
        "dates = []\n",
        "num_casos = []\n",
        "\n",
        "for p in tqdm(np.arange(1,npages+1)):\n",
        "  \n",
        "  url = 'https://brasil.io/api/dataset/covid19/caso/data/?format=json&page='+ str(p)  #'/content/drive/My Drive/dataset.json'\n",
        "  data = pd.read_json(url)\n",
        "  data['results'][0]\n",
        " \n",
        "  for d in data['results']:\n",
        "    dates.append(d['date'])\n",
        "    num_casos.append(d['confirmed'])\n",
        " \n",
        "index = pd.DatetimeIndex(dates)\n",
        "up_data = pd.Series(num_casos, index=index)\n",
        "up_data = up_data.groupby(level=0).sum()\n",
        "plt.plot(up_data)"
      ],
      "execution_count": 0,
      "outputs": []
    },
    {
      "cell_type": "code",
      "metadata": {
        "id": "HUx4qrWgIUQk",
        "colab_type": "code",
        "colab": {}
      },
      "source": [
        "up_data.to_csv('/content/drive/My Drive/brazilian dataset/up_dataset_brazil.csv')"
      ],
      "execution_count": 0,
      "outputs": []
    },
    {
      "cell_type": "markdown",
      "metadata": {
        "id": "do_PJzwqKF_a",
        "colab_type": "text"
      },
      "source": [
        "## WHO data"
      ]
    },
    {
      "cell_type": "code",
      "metadata": {
        "id": "jlfKoi4qKHRL",
        "colab_type": "code",
        "colab": {}
      },
      "source": [
        "url = '/content/drive/My Drive/data_who.csv'\n",
        "data = pd.read_csv(url)\n",
        "data.head()"
      ],
      "execution_count": 0,
      "outputs": []
    },
    {
      "cell_type": "code",
      "metadata": {
        "id": "NEbf2gd_Kc18",
        "colab_type": "code",
        "colab": {}
      },
      "source": [
        "index = pd.DatetimeIndex(data['date_epicrv'])\n",
        "up_data = pd.Series(data['NewCase'].values, index=index)\n",
        "up_data = up_data.groupby(level=0).sum()\n",
        "#print(len(data['NewCase'].values)) #print(up_data.head())\n",
        "up_data.head()\n",
        "plt.plot(up_data)"
      ],
      "execution_count": 0,
      "outputs": []
    },
    {
      "cell_type": "code",
      "metadata": {
        "id": "6_wAkmklKgOU",
        "colab_type": "code",
        "colab": {}
      },
      "source": [
        "up_data.to_csv('/content/drive/My Drive/who dataset/up_dataset_who.csv')"
      ],
      "execution_count": 0,
      "outputs": []
    }
  ]
}