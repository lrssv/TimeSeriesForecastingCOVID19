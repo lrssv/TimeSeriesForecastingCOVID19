{
  "nbformat": 4,
  "nbformat_minor": 0,
  "metadata": {
    "colab": {
      "name": "SARIMAX-MODEL.ipynb",
      "provenance": [],
      "mount_file_id": "1GfTauEOeOGo_ThkawDwEexT58L5lFH-A",
      "authorship_tag": "ABX9TyNA1xfwZ42rjRw24gG0ZmyA",
      "include_colab_link": true
    },
    "kernelspec": {
      "name": "python3",
      "display_name": "Python 3"
    }
  },
  "cells": [
    {
      "cell_type": "markdown",
      "metadata": {
        "id": "view-in-github",
        "colab_type": "text"
      },
      "source": [
        "<a href=\"https://colab.research.google.com/github/lrssv/TimeSeriesForecastingCOVID19/blob/master/SARIMAX_MODEL.ipynb\" target=\"_parent\"><img src=\"https://colab.research.google.com/assets/colab-badge.svg\" alt=\"Open In Colab\"/></a>"
      ]
    },
    {
      "cell_type": "code",
      "metadata": {
        "id": "oPu3ANR6u24l",
        "colab_type": "code",
        "colab": {}
      },
      "source": [
        "# Useful turorials\n",
        "# https://www.digitalocean.com/community/tutorials/a-guide-to-time-series-forecasting-with-arima-in-python-3\n",
        "# https://www.statsmodels.org/dev/examples/notebooks/generated/statespace_sarimax_stata.html\n",
        "\n",
        "#Code by Rodrigo Silva"
      ],
      "execution_count": 0,
      "outputs": []
    },
    {
      "cell_type": "markdown",
      "metadata": {
        "id": "o1EygrKpvu5a",
        "colab_type": "text"
      },
      "source": [
        "## Getting data"
      ]
    },
    {
      "cell_type": "code",
      "metadata": {
        "id": "6gOEYBSwvT6-",
        "colab_type": "code",
        "colab": {
          "base_uri": "https://localhost:8080/",
          "height": 71
        },
        "outputId": "98aae58d-804d-44b7-e388-58c361f15ee7"
      },
      "source": [
        "import warnings\n",
        "import itertools\n",
        "import pandas as pd\n",
        "import numpy as np\n",
        "import statsmodels.api as sm\n",
        "import matplotlib.pyplot as plt\n",
        "from datetime import timedelta"
      ],
      "execution_count": 1,
      "outputs": [
        {
          "output_type": "stream",
          "text": [
            "/usr/local/lib/python3.6/dist-packages/statsmodels/tools/_testing.py:19: FutureWarning: pandas.util.testing is deprecated. Use the functions in the public API at pandas.testing instead.\n",
            "  import pandas.util.testing as tm\n"
          ],
          "name": "stderr"
        }
      ]
    },
    {
      "cell_type": "code",
      "metadata": {
        "id": "mQG87kJpvT5J",
        "colab_type": "code",
        "colab": {
          "base_uri": "https://localhost:8080/",
          "height": 238
        },
        "outputId": "8ec63d65-26a7-4377-b45c-d552cef04d63"
      },
      "source": [
        "# Get data\n",
        "series = pd.read_csv('/content/drive/My Drive/who dataset/up_dataset_who.csv',header=0, parse_dates=[0], index_col=0, squeeze=True)\n",
        "\n",
        "# The term bfill means that we use the value before filling in missing values\n",
        "series = pd.Series(series.fillna(series.bfill()))\n",
        "\n",
        "print(series)"
      ],
      "execution_count": 2,
      "outputs": [
        {
          "output_type": "stream",
          "text": [
            "date_epicrv\n",
            "2020-01-11 00:00:00+00:00       41\n",
            "2020-01-12 00:00:00+00:00        0\n",
            "2020-01-13 00:00:00+00:00        1\n",
            "2020-01-14 00:00:00+00:00        1\n",
            "2020-01-15 00:00:00+00:00        0\n",
            "                             ...  \n",
            "2020-04-30 00:00:00+00:00    72955\n",
            "2020-05-01 00:00:00+00:00    85016\n",
            "2020-05-02 00:00:00+00:00    90560\n",
            "2020-05-03 00:00:00+00:00    84003\n",
            "2020-05-04 00:00:00+00:00    86029\n",
            "Name: 0, Length: 115, dtype: int64\n"
          ],
          "name": "stdout"
        }
      ]
    },
    {
      "cell_type": "markdown",
      "metadata": {
        "id": "xiIznNVQv2bE",
        "colab_type": "text"
      },
      "source": [
        "## Getting the training set"
      ]
    },
    {
      "cell_type": "code",
      "metadata": {
        "id": "5sbYs2T8vr6C",
        "colab_type": "code",
        "colab": {
          "base_uri": "https://localhost:8080/",
          "height": 332
        },
        "outputId": "0dacc469-2fb2-48dd-96be-cdd0674dae72"
      },
      "source": [
        "# Training set = some 30 days\n",
        "ini = pd.to_datetime('2020-01-11 00:00:00+00:00')\n",
        "end = pd.to_datetime('2020-02-11 00:00:00+00:00')\n",
        "train = series[ini:end]\n",
        "\n",
        "train.plot()"
      ],
      "execution_count": 3,
      "outputs": [
        {
          "output_type": "execute_result",
          "data": {
            "text/plain": [
              "<matplotlib.axes._subplots.AxesSubplot at 0x7f36cb4fa630>"
            ]
          },
          "metadata": {
            "tags": []
          },
          "execution_count": 3
        },
        {
          "output_type": "display_data",
          "data": {
            "image/png": "[encoded data removed]",
            "text/plain": [
              "<Figure size 432x288 with 1 Axes>"
            ]
          },
          "metadata": {
            "tags": [],
            "needs_background": "light"
          }
        }
      ]
    },
    {
      "cell_type": "markdown",
      "metadata": {
        "id": "OaVH22lev-Gh",
        "colab_type": "text"
      },
      "source": [
        "# Fit model"
      ]
    },
    {
      "cell_type": "code",
      "metadata": {
        "id": "NUuYNqrJv7SK",
        "colab_type": "code",
        "colab": {
          "base_uri": "https://localhost:8080/",
          "height": 71
        },
        "outputId": "7f1b8f0a-8f85-4c03-8ca6-8623c5369809"
      },
      "source": [
        "# Fit ARIMA\n",
        "mod = sm.tsa.statespace.SARIMAX(train, trend='c', order=(1,1,1)) # Selected the parameters randomly\n",
        "res = mod.fit(disp=False)"
      ],
      "execution_count": 4,
      "outputs": [
        {
          "output_type": "stream",
          "text": [
            "/usr/local/lib/python3.6/dist-packages/statsmodels/tsa/base/tsa_model.py:165: ValueWarning: No frequency information was provided, so inferred frequency D will be used.\n",
            "  % freq, ValueWarning)\n"
          ],
          "name": "stderr"
        }
      ]
    },
    {
      "cell_type": "markdown",
      "metadata": {
        "id": "zWIyIA_lwC_w",
        "colab_type": "text"
      },
      "source": [
        "### Test"
      ]
    },
    {
      "cell_type": "code",
      "metadata": {
        "id": "9fSxg_D8wBeB",
        "colab_type": "code",
        "colab": {}
      },
      "source": [
        "# Forecast 7 days ahead\n",
        "ini_test = end + timedelta(days=1)\n",
        "end_test = ini_test + timedelta(days=6)\n",
        "\n",
        "pred = res.get_prediction(start=pd.to_datetime(ini_test), end=pd.to_datetime(end_test), dynamic=False)"
      ],
      "execution_count": 0,
      "outputs": []
    },
    {
      "cell_type": "code",
      "metadata": {
        "id": "QWlD0vfXwKMK",
        "colab_type": "code",
        "colab": {
          "base_uri": "https://localhost:8080/",
          "height": 314
        },
        "outputId": "0c1bd150-e091-4dc9-95ef-9a2d7a67bff5"
      },
      "source": [
        "# Plot Results\n",
        "ax = series[ini:end_test].plot(label='Observed')\n",
        "\n",
        "pred.predicted_mean.plot(ax=ax, label='Forecast', alpha=.7)\n",
        "\n",
        "ax.set_xlabel('Date')\n",
        "ax.set_ylabel('COVID_19 Cases')\n",
        "plt.legend()\n",
        "\n",
        "plt.show()"
      ],
      "execution_count": 6,
      "outputs": [
        {
          "output_type": "display_data",
          "data": {
            "image/png": "[encoded data removed]",
            "text/plain": [
              "<Figure size 432x288 with 1 Axes>"
            ]
          },
          "metadata": {
            "tags": [],
            "needs_background": "light"
          }
        }
      ]
    },
    {
      "cell_type": "code",
      "metadata": {
        "id": "oTllQknhwMMq",
        "colab_type": "code",
        "colab": {
          "base_uri": "https://localhost:8080/",
          "height": 85
        },
        "outputId": "aa9580d8-ffe0-4531-b8c3-656eaadf854f"
      },
      "source": [
        "# Compute error\n",
        "\n",
        "predictions = np.array(pred.predicted_mean.values)\n",
        "observations = np.array(series[ini_test:end_test].values)\n",
        "\n",
        "MAE = np.sum(np.abs(predictions-observations))/len(predictions) \n",
        "\n",
        "print(observations)\n",
        "print(predictions)\n",
        "print('Mean absolute error (MAE):' + str(MAE))"
      ],
      "execution_count": 7,
      "outputs": [
        {
          "output_type": "stream",
          "text": [
            "[ 2066 15212  4068  2732  2090  2161  1993]\n",
            "[2795.78638761 2724.13874509 2912.29959805 2925.33202682 3056.41280848\n",
            " 3107.92104968 3213.0665424 ]\n",
            "Mean absolute error (MAE):2528.582924551662\n"
          ],
          "name": "stdout"
        }
      ]
    }
  ]
}